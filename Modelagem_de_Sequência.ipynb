{
  "nbformat": 4,
  "nbformat_minor": 0,
  "metadata": {
    "colab": {
      "provenance": [],
      "authorship_tag": "ABX9TyOeE4L1SG9R9AL6qmS4RRnr",
      "include_colab_link": true
    },
    "kernelspec": {
      "name": "python3",
      "display_name": "Python 3"
    },
    "language_info": {
      "name": "python"
    }
  },
  "cells": [
    {
      "cell_type": "markdown",
      "metadata": {
        "id": "view-in-github",
        "colab_type": "text"
      },
      "source": [
        "<a href=\"https://colab.research.google.com/github/jrctechmind/machine_learning/blob/main/Modelagem_de_Sequ%C3%AAncia.ipynb\" target=\"_parent\"><img src=\"https://colab.research.google.com/assets/colab-badge.svg\" alt=\"Open In Colab\"/></a>"
      ]
    },
    {
      "cell_type": "code",
      "execution_count": 1,
      "metadata": {
        "colab": {
          "base_uri": "https://localhost:8080/"
        },
        "id": "qKkgG6I6iq1m",
        "outputId": "53748e79-eb9a-44e4-d1cf-1b376aea19b4"
      },
      "outputs": [
        {
          "output_type": "stream",
          "name": "stdout",
          "text": [
            "Bem-vindo ao Sistema de Recomendação!\n",
            "Por favor, insira o número do usuário para o qual deseja fazer recomendações (0 a 4 ):\n",
            "1\n",
            "\n",
            "Usuário alvo selecionado: 1\n",
            "Fazendo recomendações para o usuário...\n",
            "\n",
            "Recomendações para o usuário selecionado:\n",
            "  - Item 1.0\n",
            "  - Item 0.0\n",
            "\n",
            "Obrigado por usar nosso sistema de recomendação!\n"
          ]
        }
      ],
      "source": [
        "import numpy as np\n",
        "from sklearn.decomposition import NMF\n",
        "\n",
        "# Dados de exemplo: matriz de avaliações de usuários para itens e características dos itens\n",
        "avaliacoes = np.array([\n",
        "    [5, 3, 0, 0],\n",
        "    [4, 0, 4, 1],\n",
        "    [1, 1, 0, 5],\n",
        "    [0, 0, 4, 4],\n",
        "    [0, 1, 5, 4],\n",
        "])\n",
        "\n",
        "caracteristicas_itens = np.array([\n",
        "    [1, 0, 1, 0],  # Características do item 0\n",
        "    [1, 1, 0, 0],  # Características do item 1\n",
        "    [0, 1, 0, 1],  # Características do item 2\n",
        "    [0, 0, 1, 1]   # Características do item 3\n",
        "])\n",
        "\n",
        "def similaridade_usuario(usuario1, usuario2):\n",
        "    \"\"\"\n",
        "    Calcula a similaridade entre dois usuários usando a correlação de Pearson.\n",
        "    Quanto maior o valor retornado, mais similaridade entre os usuários.\n",
        "\n",
        "    Argumentos:\n",
        "    usuario1 -- índice do primeiro usuário\n",
        "    usuario2 -- índice do segundo usuário\n",
        "\n",
        "    Retorna:\n",
        "    similaridade -- valor de similaridade entre os usuários\n",
        "    \"\"\"\n",
        "    avaliacoes_usuario1 = avaliacoes[usuario1]\n",
        "    avaliacoes_usuario2 = avaliacoes[usuario2]\n",
        "    avaliacoes_comuns = np.logical_and(avaliacoes_usuario1 != 0, avaliacoes_usuario2 != 0)\n",
        "\n",
        "    if np.sum(avaliacoes_comuns) == 0:\n",
        "        return 0\n",
        "\n",
        "    avaliacoes_usuario1_comuns = avaliacoes_usuario1[avaliacoes_comuns]\n",
        "    avaliacoes_usuario2_comuns = avaliacoes_usuario2[avaliacoes_comuns]\n",
        "\n",
        "    media_usuario1 = np.mean(avaliacoes_usuario1_comuns)\n",
        "    media_usuario2 = np.mean(avaliacoes_usuario2_comuns)\n",
        "\n",
        "    numerador = np.sum((avaliacoes_usuario1_comuns - media_usuario1) * (avaliacoes_usuario2_comuns - media_usuario2))\n",
        "    denominador = np.sqrt(np.sum((avaliacoes_usuario1_comuns - media_usuario1)**2)) * np.sqrt(np.sum((avaliacoes_usuario2_comuns - media_usuario2)**2))\n",
        "\n",
        "    if denominador == 0:\n",
        "        return 0\n",
        "\n",
        "    similaridade = numerador / denominador\n",
        "    return similaridade\n",
        "\n",
        "def recomendar(usuario_alvo, k=2, n_components=2, alpha=0.5):\n",
        "    \"\"\"\n",
        "    Faz recomendações para um usuário usando um sistema de recomendação híbrido.\n",
        "\n",
        "    Argumentos:\n",
        "    usuario_alvo -- índice do usuário para o qual desejamos fazer recomendações\n",
        "    k -- número de itens para recomendar (padrão: 2)\n",
        "    n_components -- número de componentes latentes na fatoração de matriz (padrão: 2)\n",
        "    alpha -- fator de ponderação para combinar as recomendações da filtragem colaborativa e baseada em conteúdo (padrão: 0.5)\n",
        "\n",
        "    Retorna:\n",
        "    recomendacoes -- lista de índices dos itens recomendados\n",
        "    \"\"\"\n",
        "    # Filtragem colaborativa\n",
        "    model = NMF(n_components=n_components, init='random', random_state=42)\n",
        "    W = model.fit_transform(avaliacoes)\n",
        "    H = model.components_\n",
        "    recomendacoes_colaborativas = np.argsort(H[:, usuario_alvo])[::-1][:k]\n",
        "\n",
        "    # Filtragem baseada em conteúdo\n",
        "    avaliacoes_usuario = avaliacoes[usuario_alvo]\n",
        "    itens_avaliados = np.where(avaliacoes_usuario != 0)[0]\n",
        "    similaridades = [similaridade_usuario(item, itens_avaliados[0]) for item in range(len(avaliacoes[0]))]\n",
        "    indices_similares = np.argsort(similaridades)[::-1][:k]\n",
        "    recomendacoes_baseadas_em_conteudo = [item for item in indices_similares if item not in itens_avaliados]\n",
        "\n",
        "    # Combinar recomendações\n",
        "    recomendacoes = np.concatenate([recomendacoes_colaborativas, recomendacoes_baseadas_em_conteudo])\n",
        "    recomendacoes_unicas, counts = np.unique(recomendacoes, return_counts=True)\n",
        "    recomendacoes = recomendacoes_unicas[np.argsort(counts)][::-1][:k]\n",
        "\n",
        "    return recomendacoes\n",
        "\n",
        "# Exibição de instruções e interações com o usuário\n",
        "print(\"Bem-vindo ao Sistema de Recomendação!\")\n",
        "print(\"Por favor, insira o número do usuário para o qual deseja fazer recomendações (0 a\", len(avaliacoes) - 1, \"):\")\n",
        "usuario_alvo = int(input())\n",
        "\n",
        "if usuario_alvo < 0 or usuario_alvo >= len(avaliacoes):\n",
        "    print(\"Número de usuário inválido. Por favor, insira um número dentro do intervalo válido.\")\n",
        "else:\n",
        "    print(\"\\nUsuário alvo selecionado:\", usuario_alvo)\n",
        "    print(\"Fazendo recomendações para o usuário...\")\n",
        "    recomendacoes = recomendar(usuario_alvo)\n",
        "    print(\"\\nRecomendações para o usuário selecionado:\")\n",
        "    for i, item in enumerate(recomendacoes):\n",
        "        print(\"  - Item\", item)\n",
        "\n",
        "print(\"\\nObrigado por usar nosso sistema de recomendação!\")\n"
      ]
    }
  ]
}