{
  "nbformat": 4,
  "nbformat_minor": 0,
  "metadata": {
    "colab": {
      "provenance": [],
      "authorship_tag": "ABX9TyN6tpmWvaalydzoN+fqR3A1",
      "include_colab_link": true
    },
    "kernelspec": {
      "name": "python3",
      "display_name": "Python 3"
    },
    "language_info": {
      "name": "python"
    }
  },
  "cells": [
    {
      "cell_type": "markdown",
      "metadata": {
        "id": "view-in-github",
        "colab_type": "text"
      },
      "source": [
        "<a href=\"https://colab.research.google.com/github/jrctechmind/machine_learning/blob/main/Fatora%C3%A7%C3%A3o_de_Matriz.ipynb\" target=\"_parent\"><img src=\"https://colab.research.google.com/assets/colab-badge.svg\" alt=\"Open In Colab\"/></a>"
      ]
    },
    {
      "cell_type": "code",
      "source": [
        "import numpy as np\n",
        "from sklearn.decomposition import NMF\n",
        "\n",
        "# Dados de exemplo: matriz de avaliações de usuários para itens\n",
        "avaliacoes = np.array([\n",
        "    [5, 3, 0, 0],\n",
        "    [4, 0, 4, 1],\n",
        "    [1, 1, 0, 5],\n",
        "    [0, 0, 4, 4],\n",
        "    [0, 1, 5, 4],\n",
        "])\n",
        "\n",
        "def recomendar(usuario_alvo, k=2, n_components=2):\n",
        "    \"\"\"\n",
        "    Faz recomendações para um usuário usando fatoração de matriz.\n",
        "\n",
        "    Argumentos:\n",
        "    usuario_alvo -- índice do usuário para o qual desejamos fazer recomendações\n",
        "    k -- número de itens para recomendar (padrão: 2)\n",
        "    n_components -- número de componentes latentes na fatoração de matriz (padrão: 2)\n",
        "\n",
        "    Retorna:\n",
        "    recomendacoes -- lista de índices dos itens recomendados\n",
        "    \"\"\"\n",
        "    model = NMF(n_components=n_components, init='random', random_state=42)\n",
        "    W = model.fit_transform(avaliacoes)\n",
        "    H = model.components_\n",
        "    recomendacoes = np.argsort(H[:, usuario_alvo])[::-1][:k]\n",
        "    return recomendacoes\n",
        "\n",
        "# Exibição de instruções e interações com o usuário\n",
        "print(\"Bem-vindo ao Sistema de Recomendação!\")\n",
        "print(\"Por favor, insira o número do usuário para o qual deseja fazer recomendações (0 a\", len(avaliacoes[0]) - 1, \"):\")\n",
        "usuario_alvo = int(input())\n",
        "\n",
        "if usuario_alvo < 0 or usuario_alvo >= len(avaliacoes[0]):\n",
        "    print(\"Número de usuário inválido. Por favor, insira um número dentro do intervalo válido.\")\n",
        "else:\n",
        "    print(\"\\nUsuário alvo selecionado:\", usuario_alvo)\n",
        "    print(\"Fazendo recomendações para o usuário...\")\n",
        "    recomendacoes = recomendar(usuario_alvo)\n",
        "    print(\"\\nRecomendações para o usuário selecionado:\")\n",
        "    for i, item in enumerate(recomendacoes):\n",
        "        print(\"  - Item\", item)\n",
        "\n",
        "print(\"\\nObrigado por usar nosso sistema de recomendação!\")\n"
      ],
      "metadata": {
        "id": "lsGt4VD1hmHp",
        "outputId": "b20fb9f1-8ec2-4778-b1e7-74b2eff205e5",
        "colab": {
          "base_uri": "https://localhost:8080/"
        }
      },
      "execution_count": 2,
      "outputs": [
        {
          "output_type": "stream",
          "name": "stdout",
          "text": [
            "Bem-vindo ao Sistema de Recomendação!\n",
            "Por favor, insira o número do usuário para o qual deseja fazer recomendações (0 a 3 ):\n",
            "3\n",
            "\n",
            "Usuário alvo selecionado: 3\n",
            "Fazendo recomendações para o usuário...\n",
            "\n",
            "Recomendações para o usuário selecionado:\n",
            "  - Item 0\n",
            "  - Item 1\n",
            "\n",
            "Obrigado por usar nosso sistema de recomendação!\n"
          ]
        }
      ]
    }
  ]
}