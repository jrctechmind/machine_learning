{
  "nbformat": 4,
  "nbformat_minor": 0,
  "metadata": {
    "colab": {
      "provenance": [],
      "authorship_tag": "ABX9TyORlVh4iqh3zhJWIjUYXNuj",
      "include_colab_link": true
    },
    "kernelspec": {
      "name": "python3",
      "display_name": "Python 3"
    },
    "language_info": {
      "name": "python"
    }
  },
  "cells": [
    {
      "cell_type": "markdown",
      "metadata": {
        "id": "view-in-github",
        "colab_type": "text"
      },
      "source": [
        "<a href=\"https://colab.research.google.com/github/jrctechmind/machine_learning/blob/main/Filtragem_por_Popularidade.ipynb\" target=\"_parent\"><img src=\"https://colab.research.google.com/assets/colab-badge.svg\" alt=\"Open In Colab\"/></a>"
      ]
    },
    {
      "cell_type": "code",
      "execution_count": 1,
      "metadata": {
        "colab": {
          "base_uri": "https://localhost:8080/"
        },
        "id": "oz1GcQdij1Po",
        "outputId": "02163391-2818-4140-f02f-b7529dc25ec9"
      },
      "outputs": [
        {
          "output_type": "stream",
          "name": "stdout",
          "text": [
            "Bem-vindo ao Sistema de Recomendação por Popularidade!\n",
            "Fazendo recomendações...\n",
            "\n",
            "Itens recomendados com base na popularidade:\n",
            "  - Item 3\n",
            "  - Item 2\n",
            "\n",
            "Obrigado por usar nosso sistema de recomendação por popularidade!\n"
          ]
        }
      ],
      "source": [
        "import numpy as np\n",
        "\n",
        "# Dados de exemplo: matriz de avaliações de usuários para itens\n",
        "avaliacoes = np.array([\n",
        "    [5, 3, 0, 0],\n",
        "    [4, 0, 4, 1],\n",
        "    [1, 1, 0, 5],\n",
        "    [0, 0, 4, 4],\n",
        "    [0, 1, 5, 4],\n",
        "])\n",
        "\n",
        "def recomendar_por_popularidade(k=2):\n",
        "    \"\"\"\n",
        "    Faz recomendações com base na popularidade dos itens entre os usuários.\n",
        "\n",
        "    Argumentos:\n",
        "    k -- número de itens para recomendar (padrão: 2)\n",
        "\n",
        "    Retorna:\n",
        "    recomendacoes -- lista de índices dos itens recomendados\n",
        "    \"\"\"\n",
        "    # Calcular a média das avaliações para cada item\n",
        "    avaliacoes_medias = np.mean(avaliacoes, axis=0)\n",
        "\n",
        "    # Ordenar os itens pela média das avaliações em ordem decrescente\n",
        "    recomendacoes = np.argsort(avaliacoes_medias)[::-1][:k]\n",
        "\n",
        "    return recomendacoes\n",
        "\n",
        "# Exibição de instruções e interações com o usuário\n",
        "print(\"Bem-vindo ao Sistema de Recomendação por Popularidade!\")\n",
        "print(\"Fazendo recomendações...\")\n",
        "recomendacoes = recomendar_por_popularidade()\n",
        "\n",
        "print(\"\\nItens recomendados com base na popularidade:\")\n",
        "for i, item in enumerate(recomendacoes):\n",
        "    print(\"  - Item\", item)\n",
        "\n",
        "print(\"\\nObrigado por usar nosso sistema de recomendação por popularidade!\")\n"
      ]
    }
  ]
}