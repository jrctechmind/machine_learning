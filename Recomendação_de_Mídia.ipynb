{
  "nbformat": 4,
  "nbformat_minor": 0,
  "metadata": {
    "colab": {
      "provenance": [],
      "authorship_tag": "ABX9TyPuTWYDXHY536mzgTWJZSEt",
      "include_colab_link": true
    },
    "kernelspec": {
      "name": "python3",
      "display_name": "Python 3"
    },
    "language_info": {
      "name": "python"
    }
  },
  "cells": [
    {
      "cell_type": "markdown",
      "metadata": {
        "id": "view-in-github",
        "colab_type": "text"
      },
      "source": [
        "<a href=\"https://colab.research.google.com/github/jrctechmind/machine_learning/blob/main/Recomenda%C3%A7%C3%A3o_de_M%C3%ADdia.ipynb\" target=\"_parent\"><img src=\"https://colab.research.google.com/assets/colab-badge.svg\" alt=\"Open In Colab\"/></a>"
      ]
    },
    {
      "cell_type": "code",
      "execution_count": 1,
      "metadata": {
        "colab": {
          "base_uri": "https://localhost:8080/"
        },
        "id": "TOvxEd8EkU6x",
        "outputId": "476ba0a7-e5b1-43f0-f2cc-78c2f4421303"
      },
      "outputs": [
        {
          "output_type": "stream",
          "name": "stdout",
          "text": [
            "Bem-vindo ao Sistema de Recomendação de Mídia!\n",
            "Por favor, escolha uma categoria de mídia: Filmes, Música, Livros ou Podcasts.\n",
            "Digite o nome da categoria desejada: 3\n",
            "Categoria de mídia inválida. Por favor, escolha entre Filmes, Música, Livros ou Podcasts.\n",
            "\n",
            "Obrigado por usar nosso sistema de recomendação de mídia!\n"
          ]
        }
      ],
      "source": [
        "import numpy as np\n",
        "\n",
        "# Dados de exemplo: matriz de avaliações de usuários para itens e categorias de itens\n",
        "avaliacoes = np.array([\n",
        "    [5, 3, 0, 0],\n",
        "    [4, 0, 4, 1],\n",
        "    [1, 1, 0, 5],\n",
        "    [0, 0, 4, 4],\n",
        "    [0, 1, 5, 4],\n",
        "])\n",
        "\n",
        "categorias_itens = ['Filme', 'Música', 'Livro', 'Podcast']\n",
        "\n",
        "def recomendar_midia(categoria, k=2):\n",
        "    \"\"\"\n",
        "    Faz recomendações de mídia com base nas preferências do usuário para uma determinada categoria.\n",
        "\n",
        "    Argumentos:\n",
        "    categoria -- categoria de mídia para a qual deseja fazer recomendações\n",
        "    k -- número de itens para recomendar (padrão: 2)\n",
        "\n",
        "    Retorna:\n",
        "    recomendacoes -- lista de índices dos itens recomendados\n",
        "    \"\"\"\n",
        "    # Encontrar índices dos itens na categoria especificada\n",
        "    indices_categoria = [i for i, cat in enumerate(categorias_itens) if cat == categoria]\n",
        "\n",
        "    # Calcular a média das avaliações para cada item na categoria especificada\n",
        "    avaliacoes_medias = np.mean(avaliacoes[:, indices_categoria], axis=0)\n",
        "\n",
        "    # Ordenar os itens da categoria pela média das avaliações em ordem decrescente\n",
        "    recomendacoes = np.argsort(avaliacoes_medias)[::-1][:k]\n",
        "\n",
        "    return recomendacoes\n",
        "\n",
        "# Exibição de instruções e interações com o usuário\n",
        "print(\"Bem-vindo ao Sistema de Recomendação de Mídia!\")\n",
        "print(\"Por favor, escolha uma categoria de mídia: Filmes, Música, Livros ou Podcasts.\")\n",
        "categoria = input(\"Digite o nome da categoria desejada: \")\n",
        "\n",
        "if categoria not in categorias_itens:\n",
        "    print(\"Categoria de mídia inválida. Por favor, escolha entre Filmes, Música, Livros ou Podcasts.\")\n",
        "else:\n",
        "    print(\"\\nFazendo recomendações de\", categoria, \"...\")\n",
        "    recomendacoes = recomendar_midia(categoria)\n",
        "\n",
        "    print(\"\\nItens recomendados na categoria de\", categoria + \":\")\n",
        "    for i, item in enumerate(recomendacoes):\n",
        "        print(\"  - Item\", item)\n",
        "\n",
        "print(\"\\nObrigado por usar nosso sistema de recomendação de mídia!\")\n"
      ]
    }
  ]
}