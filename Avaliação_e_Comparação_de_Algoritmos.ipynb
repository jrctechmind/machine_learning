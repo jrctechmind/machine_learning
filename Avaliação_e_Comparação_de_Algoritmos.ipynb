{
  "nbformat": 4,
  "nbformat_minor": 0,
  "metadata": {
    "colab": {
      "provenance": [],
      "authorship_tag": "ABX9TyNgYXKxzkdKVFatXZfEQScD",
      "include_colab_link": true
    },
    "kernelspec": {
      "name": "python3",
      "display_name": "Python 3"
    },
    "language_info": {
      "name": "python"
    }
  },
  "cells": [
    {
      "cell_type": "markdown",
      "metadata": {
        "id": "view-in-github",
        "colab_type": "text"
      },
      "source": [
        "<a href=\"https://colab.research.google.com/github/jrctechmind/machine_learning/blob/main/Avalia%C3%A7%C3%A3o_e_Compara%C3%A7%C3%A3o_de_Algoritmos.ipynb\" target=\"_parent\"><img src=\"https://colab.research.google.com/assets/colab-badge.svg\" alt=\"Open In Colab\"/></a>"
      ]
    },
    {
      "cell_type": "code",
      "source": [
        "import numpy as np\n",
        "from sklearn.metrics import mean_squared_error\n",
        "from sklearn.model_selection import train_test_split\n",
        "\n",
        "# Dados de exemplo: matriz de avaliações de usuários para itens\n",
        "avaliacoes = np.array([\n",
        "    [5, 3, 0, 0],\n",
        "    [4, 0, 4, 1],\n",
        "    [1, 1, 0, 5],\n",
        "    [0, 0, 4, 4],\n",
        "    [0, 1, 5, 4],\n",
        "])\n",
        "\n",
        "def recomendar(usuario):\n",
        "    \"\"\"\n",
        "    Função de recomendação de exemplo que retorna uma lista de recomendações para o usuário.\n",
        "\n",
        "    Argumentos:\n",
        "    usuario -- índice do usuário para o qual deseja fazer recomendações\n",
        "\n",
        "    Retorna:\n",
        "    recomendacoes -- lista de recomendações para o usuário\n",
        "    \"\"\"\n",
        "    return [np.mean(avaliacoes[usuario]) for _ in range(avaliacoes.shape[1])]\n",
        "\n",
        "def avaliar_recomendacoes(algoritmo, teste_size=0.2):\n",
        "    \"\"\"\n",
        "    Avalia o desempenho de um algoritmo de recomendação usando divisão treino-teste e métricas de avaliação.\n",
        "\n",
        "    Argumentos:\n",
        "    algoritmo -- função que implementa o algoritmo de recomendação\n",
        "    teste_size -- proporção do conjunto de dados a ser usado como conjunto de teste (padrão: 0.2)\n",
        "\n",
        "    Retorna:\n",
        "    precisao -- precisão do algoritmo de recomendação\n",
        "    recall -- recall do algoritmo de recomendação\n",
        "    rmse -- erro quadrático médio do algoritmo de recomendação\n",
        "    \"\"\"\n",
        "    # Dividir os dados em conjuntos de treino e teste\n",
        "    train_data, test_data = train_test_split(avaliacoes, test_size=teste_size, random_state=42)\n",
        "\n",
        "    # Fazer recomendações para os usuários no conjunto de teste\n",
        "    recomendacoes = np.array([algoritmo(usuario) for usuario in range(len(test_data))])\n",
        "\n",
        "    # Calcular métricas de avaliação\n",
        "    verdadeiros_positivos = np.sum(np.logical_and(recomendacoes != 0, test_data != 0))\n",
        "    positivos_recomendados = np.sum(recomendacoes != 0)\n",
        "    positivos_reais = np.sum(test_data != 0)\n",
        "    precisao = verdadeiros_positivos / positivos_recomendados\n",
        "    recall = verdadeiros_positivos / positivos_reais\n",
        "    rmse = np.sqrt(mean_squared_error(test_data[test_data != 0], recomendacoes[test_data != 0]))\n",
        "\n",
        "    return precisao, recall, rmse\n",
        "\n",
        "# Exibição de instruções e interações com o usuário\n",
        "print(\"Avaliando o Desempenho de Algoritmos de Recomendação...\")\n",
        "precisao, recall, rmse = avaliar_recomendacoes(recomendar)\n",
        "print(\"\\nMétricas de Avaliação:\")\n",
        "print(\"Precisão:\", precisao)\n",
        "print(\"Recall:\", recall)\n",
        "print(\"RMSE:\", rmse)\n"
      ],
      "metadata": {
        "id": "L0DP9vJTljBz",
        "outputId": "68bb5ace-1797-4467-e86b-59a7b2f521cf",
        "colab": {
          "base_uri": "https://localhost:8080/"
        }
      },
      "execution_count": 4,
      "outputs": [
        {
          "output_type": "stream",
          "name": "stdout",
          "text": [
            "Avaliando o Desempenho de Algoritmos de Recomendação...\n",
            "\n",
            "Métricas de Avaliação:\n",
            "Precisão: 0.75\n",
            "Recall: 1.0\n",
            "RMSE: 1.7320508075688772\n"
          ]
        }
      ]
    }
  ]
}