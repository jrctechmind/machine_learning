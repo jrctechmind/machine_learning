{
  "nbformat": 4,
  "nbformat_minor": 0,
  "metadata": {
    "colab": {
      "provenance": [],
      "authorship_tag": "ABX9TyPNoe+eruIxAdG4qsj6cCvo",
      "include_colab_link": true
    },
    "kernelspec": {
      "name": "python3",
      "display_name": "Python 3"
    },
    "language_info": {
      "name": "python"
    }
  },
  "cells": [
    {
      "cell_type": "markdown",
      "metadata": {
        "id": "view-in-github",
        "colab_type": "text"
      },
      "source": [
        "<a href=\"https://colab.research.google.com/github/jrctechmind/machine_learning/blob/main/Recomenda%C3%A7%C3%A3o_Contextual.ipynb\" target=\"_parent\"><img src=\"https://colab.research.google.com/assets/colab-badge.svg\" alt=\"Open In Colab\"/></a>"
      ]
    },
    {
      "cell_type": "code",
      "execution_count": 1,
      "metadata": {
        "colab": {
          "base_uri": "https://localhost:8080/"
        },
        "id": "M0ghYRqhjPlt",
        "outputId": "d082e18e-08ce-460e-df21-7951bf8e2c08"
      },
      "outputs": [
        {
          "output_type": "stream",
          "name": "stdout",
          "text": [
            "Bem-vindo ao Sistema de Recomendação!\n",
            "Por favor, insira o número do usuário para o qual deseja fazer recomendações (0 a 4 ):\n",
            "2\n",
            "\n",
            "Usuário alvo selecionado: 2\n",
            "Fazendo recomendações para o usuário...\n",
            "\n",
            "Recomendações para o usuário selecionado:\n",
            "\n",
            "Obrigado por usar nosso sistema de recomendação!\n"
          ]
        }
      ],
      "source": [
        "import numpy as np\n",
        "\n",
        "# Dados de exemplo: matriz de avaliações de usuários para itens e informações de contexto\n",
        "avaliacoes = np.array([\n",
        "    [5, 3, 0, 0],\n",
        "    [4, 0, 4, 1],\n",
        "    [1, 1, 0, 5],\n",
        "    [0, 0, 4, 4],\n",
        "    [0, 1, 5, 4],\n",
        "])\n",
        "\n",
        "contexto_usuarios = np.array([\n",
        "    [0.8, 0.6, 0.7],  # Contexto do usuário 0 (exemplo: localização, hora do dia, dispositivo usado)\n",
        "    [0.5, 0.3, 0.9],  # Contexto do usuário 1\n",
        "    [0.2, 0.9, 0.4],  # Contexto do usuário 2\n",
        "    [0.7, 0.2, 0.5],  # Contexto do usuário 3\n",
        "    [0.4, 0.8, 0.3]   # Contexto do usuário 4\n",
        "])\n",
        "\n",
        "def similaridade_contexto(usuario1, usuario2):\n",
        "    \"\"\"\n",
        "    Calcula a similaridade entre dois usuários com base em suas informações de contexto.\n",
        "    Quanto maior o valor retornado, mais similaridade entre os usuários.\n",
        "\n",
        "    Argumentos:\n",
        "    usuario1 -- índice do primeiro usuário\n",
        "    usuario2 -- índice do segundo usuário\n",
        "\n",
        "    Retorna:\n",
        "    similaridade -- valor de similaridade entre os usuários\n",
        "    \"\"\"\n",
        "    return np.dot(contexto_usuarios[usuario1], contexto_usuarios[usuario2]) / (np.linalg.norm(contexto_usuarios[usuario1]) * np.linalg.norm(contexto_usuarios[usuario2]))\n",
        "\n",
        "def recomendar(usuario_alvo, k=2):\n",
        "    \"\"\"\n",
        "    Faz recomendações para um usuário considerando o contexto do usuário.\n",
        "\n",
        "    Argumentos:\n",
        "    usuario_alvo -- índice do usuário para o qual desejamos fazer recomendações\n",
        "    k -- número de itens para recomendar (padrão: 2)\n",
        "\n",
        "    Retorna:\n",
        "    recomendacoes -- lista de índices dos itens recomendados\n",
        "    \"\"\"\n",
        "    similaridades = [similaridade_contexto(usuario_alvo, usuario) for usuario in range(len(avaliacoes))]\n",
        "    indices_similares = np.argsort(similaridades)[::-1][:k]  # Índices dos usuários mais similares\n",
        "\n",
        "    # Obter itens avaliados pelos usuários mais similares\n",
        "    itens_avaliados = np.where(avaliacoes[indices_similares] != 0)\n",
        "    itens_avaliados = set(itens_avaliados[1])\n",
        "\n",
        "    # Calcular média das avaliações dos itens avaliados pelos usuários mais similares\n",
        "    avaliacoes_media = np.mean(avaliacoes[indices_similares], axis=0)\n",
        "\n",
        "    # Ordenar itens pelo valor médio das avaliações e recomendar os itens não avaliados pelo usuário alvo\n",
        "    recomendacoes = np.argsort(avaliacoes_media)[::-1]\n",
        "    recomendacoes = [item for item in recomendacoes if item not in itens_avaliados][:k]\n",
        "\n",
        "    return recomendacoes\n",
        "\n",
        "# Exibição de instruções e interações com o usuário\n",
        "print(\"Bem-vindo ao Sistema de Recomendação!\")\n",
        "print(\"Por favor, insira o número do usuário para o qual deseja fazer recomendações (0 a\", len(avaliacoes) - 1, \"):\")\n",
        "usuario_alvo = int(input())\n",
        "\n",
        "if usuario_alvo < 0 or usuario_alvo >= len(avaliacoes):\n",
        "    print(\"Número de usuário inválido. Por favor, insira um número dentro do intervalo válido.\")\n",
        "else:\n",
        "    print(\"\\nUsuário alvo selecionado:\", usuario_alvo)\n",
        "    print(\"Fazendo recomendações para o usuário...\")\n",
        "    recomendacoes = recomendar(usuario_alvo)\n",
        "    print(\"\\nRecomendações para o usuário selecionado:\")\n",
        "    for i, item in enumerate(recomendacoes):\n",
        "        print(\"  - Item\", item)\n",
        "\n",
        "print(\"\\nObrigado por usar nosso sistema de recomendação!\")\n"
      ]
    }
  ]
}